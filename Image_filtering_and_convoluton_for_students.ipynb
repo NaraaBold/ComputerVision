{
  "nbformat": 4,
  "nbformat_minor": 0,
  "metadata": {
    "colab": {
      "provenance": [],
      "authorship_tag": "ABX9TyN4COOxJku42cLedAPjJvx1",
      "include_colab_link": true
    },
    "kernelspec": {
      "name": "python3",
      "display_name": "Python 3"
    },
    "language_info": {
      "name": "python"
    }
  },
  "cells": [
    {
      "cell_type": "markdown",
      "metadata": {
        "id": "view-in-github",
        "colab_type": "text"
      },
      "source": [
        "<a href=\"https://colab.research.google.com/github/NaraaBold/ComputerVision/blob/main/Image_filtering_and_convoluton_for_students.ipynb\" target=\"_parent\"><img src=\"https://colab.research.google.com/assets/colab-badge.svg\" alt=\"Open In Colab\"/></a>"
      ]
    },
    {
      "cell_type": "markdown",
      "source": [
        "**Image Convolutions**"
      ],
      "metadata": {
        "id": "beaOKbqLM0MN"
      }
    },
    {
      "cell_type": "markdown",
      "source": [
        "Convolution is one of the most important concepts in signal processing and a precursor topic to understanding Convolutional Neural Networks.\n",
        "\n",
        "**Convolution** is a general purpose filter effect for images."
      ],
      "metadata": {
        "id": "aBWumhOoNPHc"
      }
    },
    {
      "cell_type": "code",
      "execution_count": null,
      "metadata": {
        "colab": {
          "base_uri": "https://localhost:8080/"
        },
        "id": "ll_lHp0RMzXv",
        "outputId": "1c0fe3fb-1e7a-44a2-d112-fc3361942528"
      },
      "outputs": [
        {
          "output_type": "stream",
          "name": "stderr",
          "text": [
            "<ipython-input-1-c61bc7fdfd89>:2: DeprecationWarning: Please import `convolve1d` from the `scipy.ndimage` namespace; the `scipy.ndimage.filters` namespace is deprecated and will be removed in SciPy 2.0.0.\n",
            "  from scipy.ndimage.filters import convolve1d\n"
          ]
        }
      ],
      "source": [
        "import numpy as np\n",
        "from scipy.ndimage.filters import convolve1d"
      ]
    },
    {
      "cell_type": "markdown",
      "source": [
        "1D convolution"
      ],
      "metadata": {
        "id": "Cc3sAxy0Oy3Y"
      }
    },
    {
      "cell_type": "code",
      "source": [
        "a = np.array([1,2,1,1,0,1,2,2,1])\n",
        "w = np.array([-1,1,2])\n",
        "convolve1d(a,w)"
      ],
      "metadata": {
        "colab": {
          "base_uri": "https://localhost:8080/"
        },
        "id": "SMopaEUyOoG_",
        "outputId": "4baa4004-d8c4-485e-a04c-d9675288cf6a"
      },
      "execution_count": null,
      "outputs": [
        {
          "output_type": "execute_result",
          "data": {
            "text/plain": [
              "array([ 1,  3,  4,  3,  1, -1,  2,  5,  4])"
            ]
          },
          "metadata": {},
          "execution_count": 3
        }
      ]
    },
    {
      "cell_type": "markdown",
      "source": [
        "2D Convolution"
      ],
      "metadata": {
        "id": "3V49NamZO0t2"
      }
    },
    {
      "cell_type": "code",
      "source": [
        "from scipy.ndimage.filters import convolve\n",
        "A = np.ones((9,9)) # build matrix of 1's\n",
        "A[2:-2,2:-2]=np.zeros((5,5)) # carve out the matrix of 0's\n",
        "K = np.array([[1,1,1],\n",
        "              [1,1,0],\n",
        "              [1,0,0]])\n",
        "print (A)\n",
        "convolve(A,K)"
      ],
      "metadata": {
        "id": "aYFek7veO_BQ"
      },
      "execution_count": null,
      "outputs": []
    },
    {
      "cell_type": "markdown",
      "source": [
        "**Common kernels for Image**"
      ],
      "metadata": {
        "id": "PdnVnFIURsRw"
      }
    },
    {
      "cell_type": "code",
      "source": [
        "import numpy as np\n",
        "import matplotlib.pyplot as plt\n",
        "from scipy import ndimage\n",
        "\n",
        "def rgb2gray(rgb):\n",
        "\n",
        "    r, g, b = rgb[:,:,0], rgb[:,:,1], rgb[:,:,2]\n",
        "    gray = 0.2989 * r + 0.5870 * g + 0.1140 * b\n",
        "\n",
        "    return gray"
      ],
      "metadata": {
        "id": "dpmafY-GRvrM"
      },
      "execution_count": null,
      "outputs": []
    },
    {
      "cell_type": "code",
      "source": [
        "from google.colab import drive\n",
        "drive.mount('/content/drive/')"
      ],
      "metadata": {
        "colab": {
          "base_uri": "https://localhost:8080/"
        },
        "id": "nUNueOhXRzBH",
        "outputId": "cadfcd42-86c2-4f1d-b8bd-c9ef4f74a219"
      },
      "execution_count": null,
      "outputs": [
        {
          "output_type": "stream",
          "name": "stdout",
          "text": [
            "Mounted at /content/drive/\n"
          ]
        }
      ]
    },
    {
      "cell_type": "code",
      "source": [
        "# TODO: Enter the foldername in your Drive where you have saved the unzipped\n",
        "# assignment folder, e.g. 'compVision/assignments/assignment1/'\n",
        "FOLDERNAME = 'Colab Notebooks/Computer vision/assignments/assignment1'\n",
        "assert FOLDERNAME is not None, \"[!] Enter the foldername.\"\n",
        "\n",
        "# Now that we've mounted your Drive, this ensures that\n",
        "# the Python interpreter of the Colab VM can load\n",
        "# python files from within it.\n",
        "import sys\n",
        "import os\n",
        "sys.path.append('/content/drive/MyDrive/{}'.format(FOLDERNAME))\n",
        "os.chdir('/content/drive/MyDrive/{}'.format(FOLDERNAME))"
      ],
      "metadata": {
        "id": "Ojj8pMi6SOV1"
      },
      "execution_count": null,
      "outputs": []
    },
    {
      "cell_type": "code",
      "source": [
        "import numpy as np\n",
        "import matplotlib.pyplot as plt\n",
        "\n",
        "img = plt.imread('')\n",
        "\n",
        "# create figure to plot image to\n",
        "plt.figure(figsize=(4,4))\n",
        "plt.imshow(img)"
      ],
      "metadata": {
        "id": "uIy-cPOLSQEf"
      },
      "execution_count": null,
      "outputs": []
    },
    {
      "cell_type": "markdown",
      "source": [
        "Edge detection"
      ],
      "metadata": {
        "id": "_4IEJFdbWwLX"
      }
    },
    {
      "cell_type": "markdown",
      "source": [
        "To measure the change in pixel intensity we can look at how the colour value changes in both the x and y direction."
      ],
      "metadata": {
        "id": "526rirUpSvqQ"
      }
    },
    {
      "cell_type": "code",
      "source": [
        "Dx = np.array([1,0, -1], np.float32).reshape((3,1))\n",
        "Dy = np.array([1, 0, -1], np.float32).reshape((1,3))\n",
        "print(Dx)\n",
        "print (Dy)"
      ],
      "metadata": {
        "colab": {
          "base_uri": "https://localhost:8080/"
        },
        "id": "P-qvY-EZVPUk",
        "outputId": "1ad112a9-a8b8-49df-ca47-1874e89e4598"
      },
      "execution_count": null,
      "outputs": [
        {
          "output_type": "stream",
          "name": "stdout",
          "text": [
            "[[ 1.]\n",
            " [ 0.]\n",
            " [-1.]]\n",
            "[[ 1.  0. -1.]]\n"
          ]
        }
      ]
    },
    {
      "cell_type": "code",
      "source": [
        "gray_img = rgb2gray(img)\n",
        "\n",
        "img_Dx = ndimage.filters.convolve(gray_img,Dx)\n",
        "img_Dy = ndimage.filters.convolve(gray_img,Dy)\n",
        "\n",
        "# draw images\n",
        "fig = plt.figure(figsize=(12,12))\n",
        "fig.add_subplot(1,3,1)\n",
        "plt.imshow(gray_img, cmap='gray')\n",
        "plt.title(\"original\")\n",
        "fig.add_subplot(1,3,2)\n",
        "plt.imshow(img_Dx, cmap='gray')\n",
        "plt.title(\"Dx\")\n",
        "fig.add_subplot(1,3,3)\n",
        "plt.imshow(img_Dy, cmap='gray')\n",
        "plt.title(\"Dy\")"
      ],
      "metadata": {
        "id": "9ohMbf6sVY8P"
      },
      "execution_count": null,
      "outputs": []
    },
    {
      "cell_type": "code",
      "source": [
        "def diff_filters(img):\n",
        "    ''' input: a gray scale image\n",
        "       output: the gray scale edge detection image, and direction matrix theta'''\n",
        "    Dx = np.array([1,0, -1], np.float32).reshape((3,1))\n",
        "    Dy = np.array([1, 0, -1], np.float32).reshape((1,3))\n",
        "\n",
        "    Ix = ndimage.filters.convolve(img, Dx)\n",
        "    Iy = ndimage.filters.convolve(img, Dy)\n",
        "\n",
        "    G = np.hypot(Ix, Iy)\n",
        "    G = G / G.max() * 255\n",
        "    theta = np.arctan2(Iy, Ix)\n",
        "\n",
        "    return (G, theta)"
      ],
      "metadata": {
        "id": "_JQjqRG3WhL2"
      },
      "execution_count": null,
      "outputs": []
    },
    {
      "cell_type": "code",
      "source": [
        "img_diff = diff_filters(gray_img)[0]\n",
        "\n",
        "# draw images\n",
        "fig = plt.figure(figsize=(8,8))\n",
        "fig.add_subplot(1,2,1)\n",
        "plt.imshow(gray_img, cmap='gray')\n",
        "plt.title(\"original\")\n",
        "fig.add_subplot(1,2,2)\n",
        "plt.imshow(img_diff, cmap='gray')\n",
        "plt.title(\"discrete differential\")"
      ],
      "metadata": {
        "id": "7N9HJecMWieu"
      },
      "execution_count": null,
      "outputs": []
    },
    {
      "cell_type": "markdown",
      "source": [
        "Sobel filters"
      ],
      "metadata": {
        "id": "rX9BJO3FXJ10"
      }
    },
    {
      "cell_type": "markdown",
      "source": [
        "![sobel.png](data:image/png;base64,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)"
      ],
      "metadata": {
        "id": "FEolHqP2XZDe"
      }
    },
    {
      "cell_type": "code",
      "source": [
        "def sobel_filters(img):\n",
        "    ''' input: a gray scale image\n",
        "       output: the gray scale edge detection image, and direction matrix theta'''\n",
        "    Kx = np.array([[1, 2, 1], [0, 0, 0], [-1, -2, -1]], np.float32)\n",
        "    Ky = np.array([[1, 0, -1], [2, 0, -2], [1, 0, -1]], np.float32)\n",
        "\n",
        "    Ix = ndimage.filters.convolve(img, Kx)\n",
        "    Iy = ndimage.filters.convolve(img, Ky)\n",
        "\n",
        "    G = np.hypot(Ix, Iy)\n",
        "    G = G / G.max() * 255\n",
        "    theta = np.arctan2(Iy, Ix)\n",
        "\n",
        "    return (G, theta)"
      ],
      "metadata": {
        "id": "knpzQcTNXI5o"
      },
      "execution_count": null,
      "outputs": []
    },
    {
      "cell_type": "code",
      "source": [
        "img_sobel = sobel_filters(gray_img)[0]\n",
        "\n",
        "# draw images\n",
        "fig = plt.figure(figsize=(8,8))\n",
        "fig.add_subplot(1,2,1)\n",
        "plt.imshow(gray_img, cmap='gray')\n",
        "plt.title(\"original\")\n",
        "fig.add_subplot(1,2,2)\n",
        "plt.imshow(img_sobel, cmap='gray')\n",
        "plt.title(\"sobel\")"
      ],
      "metadata": {
        "id": "fN9ZwnVAX9p3"
      },
      "execution_count": null,
      "outputs": []
    },
    {
      "cell_type": "markdown",
      "source": [
        "**Apply following kernels:**"
      ],
      "metadata": {
        "id": "aPudtsaVWovn"
      }
    },
    {
      "cell_type": "markdown",
      "source": [
        "![image.png](data:image/png;base64,iVBORw0KGgoAAAANSUhEUgAAAwkAAADcCAIAAAC04nraAAAgAElEQVR4Ae2dd3wU1f73J2V2k5BA6AihiUaiKIbQxRIkKFIUL8Kl6w2xAlZUuBjFduV6BVRAVJCiIgpIEYSfgJhA6JdqEC5EyqX6kpAnJL8kz+6+5nlmdid7Znbabs7Mlnz2DzgzO3PK+5wz894p3zAcPiAAAiAAAiAAAiAAAiIBRkzgfxAAARAAARAAARAAAQ5uhEEAAiAAAiAAAiAAAl4CcCMvC6RAAARAAARAAARAAG6EMQACIAACIAACIAACXgJwIy8LpEAABEAABEAABEAAboQxAAIgAAIgAAIgAAJeAnAjLwukQAAEQAAEQAAEQABuhDEAAiAAAiAAAiAAAl4CcCMvC6RAAARAAARAAARAAG6EMQACIAACIAACIAACXgJwIy8LpEAABEAABEAABEAAboQxAAIgAAIgAAIgAAJeAnAjLwukQAAEQAAEQAAEQABuhDEAAiAAAiAAAiAAAl4CcCMvC6RAAARAAARAAARAAG6EMQACIAACIAACIAACXgJwIy8LpEAABEAABEAABEAAboQxAAIgAAIgAAIgAAJeAnAjLwukQAAEQAAEQAAEQABuhDEAAiAAAiAAAiAAAl4C+m70n//8p0WLFhOC/Rk5cmT9+vWDXYsJo0aNqlevXtCrMWbMmPT0dG83hnPq+eef79u3b9CRVlegcePGw4YNq14MkUS3bt26dOkSIpUxUo2cnJxWrVqF88BE3UEABGovAX03+vzzzxmGGRzsT1xcXChUo06dOqFQjXr16jGMft+FxbhmhE+wx5e3/FCrj7tmoVkrLzWfVLt27RiGuXr1algMQlQSBEAABEgC+ufXNWvWJCUlkfsEJb1+/fr4+PigFE0WunHjRpZlyTVBSW/evDk6OjooRVMvtHfv3lOnTqWebcAZtmnT5osvvgh4d5N2HDdu3IgRI0zK3IxsDx48yDBMcXGxGZkjTxAAARAwlQDcyD+8cCP/eBnYGm5kABIHNzJCCduAAAiAABUCcCP/MMKN/ONlYGu4kQFIcCMjkLANCIAACNAhADfyjyPcyD9eBraGGxmABDcyAgnbgAAIgAAdAnAj/zjCjfzjZWBruJEBSHAjI5CwDQiAAAjQIQA38o8j3Mg/Xga2hhsZgAQ3MgKJwjZlZWV/4hNiBMrKyih0rWlZhBit2lWda9eumdSxcCP/wMKN/ONlYGu4kQFIcCMjkGq6zX/+8x93rAT8G2oELl26VNPeNWf/xMTEUGNV2+pz5MgRM/qWmhu5igv3nzDR7o2+w29yPYy6kcnVqF3v8JccWPLK8KxePe8emP326hMVZswDIk+j7/BX/Tp7eL838quIXU1MGnpPrfL8vo1rNx267DCxIkazDsd3+AsLCxmG2bx58+GgflasWMEwzMaNG4Nai8OrV69mGGbdunXBrca6desYhikqKuJC8jN69Ohbb701WIhWrVrFMMz69euDVYEBAwY0a9YsWKVv27aNYZj9+/ebMTRouFHp0R+mj81oGN/r/SKnGXUU8jTgRlbUw4AbWVGNWuRGjt8+zmqUmPrQ5Bmz3szu3tjWcsSy8y7ThhnHcYbcyHn+h/Ed68Q0fWyt2armaaquGzlPf/dEnyFvr966fMpDA6flBz3kYvi60eXLl80cX/p5Hz9+nGGY8+fP629q5hZFRUUMw5w5c8bMQvTzPnPmTCi7UU5OzvDhw/WbYc4WJ0+eZBjm7Nmz5mSvn+vkyZOzsrL0tzNni5KSktB2I0dlZfnWCe3igu1GVtTDgBtZUY3a40Zl68el2NNzD7gvz5RsfLJdXMfX9pt5YUTXjcpOrMnt1zqxUePk2JBxI9e5Lx5s3vMfx/gfJxVbJ9yU9uxWEy/iGjnQwY2MUFLcBm5EYoEbkTRkabhRaLsRx3GOQ693Sgi2G1lRDwNuZEU1ao0bVW1/IdV+8yu7xDtXlT+Oa2HvOf2keRcoda8bFc8f1KLTqH9t2fvBPXGh4kbO49N7JqQ+v82NqWz58IZNhi8vkR1HrV2EGwXMG25EooMbkTRkabhR6LvR4TcyQsKNzK6HQTcyuxq1xo3Kvhpcx9533h/iIcFZ+FYXe8oTP1WKK+j/r3fdyFVacs3Fca6zszJDxo1KlgxOtN0987T7ZmPVzklp9tQXC0ShpM/IQI5wIwOQlDeBG5Fc4EYkDVkabgQ34gw8b8RfsDFbSuBGsslZ80XN99T+/PR+e/zgL8vFYlynZ9xlbzjqexOf8tFzI09VQsmNnCem92TtAxeWuuvmOJibzpoLSewP9f/hRupsdL6BG5GA4EYkDVkabgQ3ghtJJkWtuW5UumhQnPekz3HOk/+8w95k7Bq4ETkeBDfyKqRj75Rb2UajV5kIiSxdOQ03UuZiYC3ciIQENyJpyNJwI7gR3EgyKWqNG1Wuz25u7/Wv38Xni6p2vZxmT5u008TbRWF43Ygr/Wpwkj1r7iX3PbXKLc+0sd3y6m4zn1iXDEelhch1I9MjJQToRrTjhhh7T810GpHoRtS6KkA3olY+F9h7arTKD/n31Ky4lwU3kpx/ao0buc7N6VOn8YgVnrtFrvNzs+rUf2SpmW+oh6MbOYs+uCvxppc8TxgVLxyY2PyxtcF9US0y3ciSSAn+u5EpcUP03cgSGhHmRnS7yn83olu+/25EtfywcKNDuekJPaefEH/eS07kVBYMPm9kdj0MPm9kdjVqjRtxrnMLH2qcdPuEtWeruIpjS0beENc6e52pb2CFoxtxrktLh7bs9lYhPwFL1zzaNiN3r4mX1ozM6Eh0I4siJfjvRqbEDdFzI4toRJgb0e0q/92Ibvn+uxHV8kPejSpObJn/XK/k2MaZkxbknTJJjwy4kRX1MOBGVlSj9rgRxzlPL386o0Esm1g3IdbWPPP1rX+aGvpR9x1+jxiE0rPYfJVc51aNv+/h3C+XzcwZOPqTw9VPrxvxGDO2iUA3sipSgv9uZErcEB03sopGhLkR3a7y343olu+/G1EtP+TdyIwjq0+eBtzIZx8TVhhwIxNK9cmyNrkR33jXtTMHt+cVHLlgwePFBq8b+fSJuSt042LzxVf98dvu3UcvmRjgwHgjI9CNrIqUEJgbUX9FV8eNrKIRgW5Er6sCcyN65QfmRtTKhxvxB2S4EXlaqm1uRLbd7HQYu5HZaPzJP/LcyLJICWHhRpbRgBtpTDu4Uci/p6bRe5S+ghuRIOFGJA26abgRFZ4R6kZWREoIHzeyggbcSGM+wo3gRrhuJJkgcCMJDqoLcCMqOCPPjSyLlKDtRq4Ls/vEx7g/8X1mX/A8fUc/7K3OPTWr4kaEsxsp9xXFrtJ2I+XiqUZI1nyH3/TycU+NP1bjuhF5xoIbkTTopuFGVHhGoBtZFSlB240459Vzx4+5P8fPXRXffaF4wvX0v44bWUUjnN1Iua8odpW2GykXb50bmV4+3Iifq3Aj8owFNyJp0E3DjajwjEA3sipSgo4bKXePg3rcEB03sopGWLuRYl9R7CodN1IsnqNYfmDPYlMbqnAjvofhRuQ4hxuRNOim4UZUeEaiG1kUKcF/NzIlboieG1lEI8LciG5X+e9GdMv3342olg834o/VcCPyjAU3ImnQTcONqPCMTDfi0ZgeKcF/N6LSY/JM9N3IEhoR5kZyyjVb9t+Nalaez96azxv5bE17BdyIJwo3IscV3IikQTcNN6LCM3LdiAoerUzCyo20GkLlO7iRBka4Ed5TgxtJJgjcSIKD6gLciApOuFHAGOFGJDq4EUlDloYbwY3gRpJJATeS4KC6ADeighNuFDBGuBGJDm5E0pCl4UZwI7iRZFLAjSQ4qC7AjajghBsFjBFuRKKDG5E0ZGm4EdwIbiSZFHAjCQ6qC3AjKjjhRgFjhBuR6OBGJA1ZGm4EN4IbSSYF3EiCg+oC3IgKTrhRwBjhRiQ6uBFJQ5aGG8GN4EaSSQE3kuCgugA3ooITbhQwRrgRiQ5uRNKQpeFGcCO4kWRSwI0kOKguwI2o4IQbBYwRbkSigxuRNGRpuBHcCG4kmRRwIwkOqgtwIyo44UYBY4QbkejgRiQNWRpuBDeCG0kmBdxIgoPqAtyICk64UcAY4UYkOrgRSUOWhhvBjeBGkkkBN5LgoLoAN6KCE24UMEa4EYkObkTSkKXhRnAjuJFkUsCNJDioLsCNqOCEGwWMEW5EooMbkTRkabgR3AhuJJkUcCMJDqoLcCMqOOFGAWOEG5Ho4EYkDVkabgQ3ghtJJgXcSIKD6gLciApOuFHAGOFGJDq4EUlDloYbBdmNGIY5EezPhx9+GArVmD17dihUY968eQzDyOZJmC4ywiczZD6hVh83mNCslUanNWjQgGGY4uLiMBqWhYWFDMNcvnw5uHWGG5H84UYkDVkabhRMN5o+fbr7uIx/Q42AbJ6E6WJ0dDTDMK+FzIdhmJSUlJCpjqci7rEXarXSqM+gQYPgRoFNSbgRyQ1uRNKQpeFGwXSjNWvWMAzz32B/Pv3001Coxvz580OhGosWLYqY60a9e/eeOnWqbM4HcRH31KjAxz21gDHCjUh0Ie5GY8eOTUtL2x+kz/LlyxmGWbNmTZDK33///fc3atQoWKVv3bo1yG6UlJREDtagpNevXx8fHx+UoslCN27cyLIsuSYoaTxvZB52uBEVtuHoRgcOHGAYZvDgwU8E9ZOZmckwzMCBA4NaiyeysrIYhunXr19wq9GvXz+GYYqKiqgMS+qZhNrNhFpYn61bt1LvVo7j9J9ZWbNmDdyoGj3cqBoFrQSuGxkhOW7cuBEjRhjZMkS2CUc3OnToEMMwmZmZw4L6SU9PZxjmzjvvDGothnXp0oVhmB49egS3Gj169GAY5vjx4yEysGXVyMnJ6d+/f0mQPv/+978Zhjly5EiQyi95+umnu3btGqzS3dcU9+/fz5nwgRv5BxVu5B8vA1vDjQxA4uBGRijVcBs8i00CLCoqYhjmzJkz5Err0yF+Ty0nJ2f48OHWY3GXiOeNcE8N7/BLZh/uqUlwUF3APTUqOMPxuhHciOx6uBFJQy0NN8rKylKDY/b6kpISuBHcSDLM4EYSHFQX4EZUcMKNAsaIZ7FJdLhuRNKQpXHdCG4EN5JMCriRBAfVBbgRFZxwo4Axwo1IdHAjkoYsDTcKAzdyFRfuP1Em6zmKi0bfUzO5HkafNzK5GrXPjUwGSoxUw27kOr9r7fbTTmJXE5MGnzeyDpNeW+FGeoRUv4cbkWjgRiQNWRpuFNpuVHr0h+ljMxrG93q/yLwThQE3sqIeBtzIimrUKjeyAihxyDHoRo5jH/dtUGfwV+XEriYm9d3IYkx6bYUb6RFS/R5uRKKBG5E0ZGm4UWi7kaOysnzrhHZxwXYjK+phwI2sqEatciMrgBKHHENuVFX44aieafVDyY0sxkQQU0zCjRSxGFkJNyIpRaIbUbu8a8iNqi4e2rx69eZDl6pIrnTSkydPDuBZbFrtD4dnsR2HXu+UEGw34jjO9HoYcCMrqlGr3MgKoMSBwoAbVR364LGXVn33RMvEELpuZDEmgphisha5Ea0jvcjRmBu5yq9cvCB8Lv5xzSHuS/H/AN9To00jwtyI7uVdXTdynV05cdCY6au3rv9wROcez6+76KI4QjiO89uNqLY/LNzo8BsZIeFGZtfDoBuZXY1a50ZmAyUOGLpuVLHvvb9N2Xy1YtOTIedGFmIiiCkma4cbUT3SixyNuJHrwuLBDfk/RMgwMSl/+6FE3Jfi//67kSk0IsyN6F7e1XEj1+VvhrV94FO3EJWueSwlZfTKKxSHSABuRLX9cCO+Mw08b8T/cDb75AA3ojqz+MyMxH40vV+JVum4Ufmud7Jfzy/luEq4EUHNJ1k73IjqkV5kaMCNqvZMG/PC0p+3bt269Zf8Xy9Tvhjgroj/bmQKjQhzI7qXd3XcqHTpX5JTHt9Y6e7Q0mVDk+sOWvinOM5o/O/3dSOq7Ycb8X0INyJHMq4bkTTopjXd6Nr2adnv7BKev4YbaXKvHW5E9Ugv8tR1I9elr//abcj0lXsueM564p5U//ffjUyhEYFuRO8XvLYbuS7Oudde9+GvS93jovLn8W1tHSbvoXkDNiA3otZ+uBHfs3Aj8rgHNyJp0E1ruJHr7MdZLVK79hQ+PTo0t8c0uqlH7yk/0a2AYm7676nxJyZqBx3FOvi1sva4EXXoem7kPDV/WGrjhJioqPi2D7y5+ZIpV404LjA3ok4DbqQx77TdiKva/kIq22TIV+6bauUrRjRgO762H26kQdT7FaW/p2b+QRlu5O00joMbkTTopjXciLt2dNOypZ7Pl7n3NYrr9uzi77adplsBxdzgRopY6K4M6G+G0D/26bmRu9GVF3YunHhHk9h6d04/RPNsV40UblSNQiMRwN8MoThidNyIc11Y92LXhvVv+8tzk/8+JeeuxjHJj3xD9dk0XDdK0hgc/FeOQ7npCT2nnwhqfCMr6mHweSOzcdQ6NzIbKDG+tdyI2CwknzeyEBOJQimN60ZKVAytM+ZGQlal219Nr9P6qc1m3FuDGxnpLU03cl2Y3Sc+xv2J7zP7gvsKn4VuxLfAUXxyb8Hek3/8+l7P+GbDv7PwWWzl5lO8vB3y99QqTmyZ/1yv5NjGmZMW5J0ySY8MXDeyoh4G3MiKatQqN7ICKHEUDFc3shgTQUwxGXluZPqRXuTohxtxrkuf9mvw0JJr4r4U/9d2I8tohPU9NefVc8ePuT/Hz131nBstdiP3kLjyQ3bbBpkzCilfYtS+bqTY/NrkRhSno3pWBtxIfWd63xhwI3qFqedUq9xIHYMp3xh1I1MKV83U0D011b2D8EXkuRFn9pFe7CV/3IgrWzbijilUH68Vq6HtRpbRCGs3EllK/qd4l0XvnpqnXEfR4kdu6vj4yrPUH03TdiNJs6sX6LU/5K8bVbfZzATciKQLNyJp0E3DjajwjEA3UuZC70gv5q/nRpXnDu773X2lqOr4ZzlPfnmG+imPr4qOG4m1lf5Pn0aEuRHdy7t6blRVfGr/hs+n/m3khE92XjFjlPjtRlTbDzfiZx/ciDwGwY1IGnTTcCMqPGuHG1E90ovcddyoavffb4ur0+auv2bnZGe/9Pk+qs/WinUIyI1MoRFhbkQAppDUcSPX1eO7dxeeK6F8I42ouN9uROxb8yTciGcINyJHEtyIpEE3DTeiwrN2uBEVVPJMdNyI41ylp/bm5+/+7ZIZj2BX1yag60bVe1NLwI00UOq4kcaelL6CG+m9p0YJtEY2cCMSDtyIpEE3DTeiwhNuFDBGXTcKOGe/doQbGcGl+Z6akQxqtA3ciGGY/fv31wiiys6U4hup5E5xNdyIhAk3ImnQTcONqPCEGwWMEW5EosN1I5KGLA03ghvhnppkUsCNJDioLsCNqOCEGwWMEW5EooMbkTRkabgR3AhuJJkUcCMJDqoLcCMqOOFGAWOEG5Ho4EYkDVkabgQ3ghtJJgXcSIKD6gLciApOuFHAGOFGJDq4EUlDloYbwY3gRpJJATeS4KC6ADeighNuFDBGuBGJDm5E0pCl4UZwI7iRZFLAjSQ4qC7AjajghBsFjBFuRKKDG5E0ZGm4EdwIbiSZFHAjCQ6qC3AjKjjhRgFjhBuR6OBGJA1ZGm4EN4IbSSYF3EiCg+oC3IgKTrhRwBjhRiQ6uBFJQ5aGG8GN4EaSSQE3kuCgugA3ooITbhQwRrgRiQ5uRNKQpeFGcCO4kWRSwI0kOKguwI2o4IQbBYwRbkSigxuRNGRpuBHcCG4kmRRwIwkOqgtwIyo44UYBY4QbkejgRiQNWRpuBDeCG0kmBdxIgoPqAtyICk64UcAY4UYkOrgRSUOWhhvBjeBGkkkBN5LgoLoAN6KCE24UMEa4EYkObkTSkKXhRnAjuJFkUsCNJDioLsCNqOCEGwWMEW5EooMbkTRkabgR3AhuJJkUcCMJDqoLcCMqOOFGAWOEG5HoQtyNMjMzGYaZHqTP448/zjDM+PHjg1T+9JiYmCA2f8qUKQzD7Nu3jxwwtNKMbkZr1qxJSkrS3czsDdavXx8fH292Kbr5b9y4kWVZ3c3M3gBuZB5huBEVtuHrRv/+97//G9TPli1bGIbZvXt3UGvx37y8PIZhCgoKgluNgoIChmGKioqoDEvqmTRo0IBhmC5B+rhLb9asWZDK78IIn2CVnpqayjBMfn4+9W7lOA5u5B9VuJF/vAxsfc8990yYMKEkZD7169efOXNmyFTHU5FHHnmkf//+oVYrjfq4z6zFxcVc+Hz27dvnPtbj31AjcOzYsdAcRzk5OcOHDw9W3XBPDffUcE9NMvsi6bpRqB2FUR+KBMLLjQoLC91XSk4E9bN+/XqGYfLy8oJaixP/8z//wzDMli1bglsN91W0kL1uBDfKysqSnJwsXCgpKQmmGy1evJhhmGeD/bnxxhtDoRrt27cPhWp06NCBYfSv+Vk4SgMvqlOnTgMGDDgQMh+GYSZOnBgy1fFUpHPnzjfffHOo1UqjPosWLfr/JMPRjS5fvhz4aKaxJ543IimG+PNGcKPa60afffYZwzAPBvvDsmwoVCMuLi4UqpGYmBgxbtS7d++pU6eSR8PgpvG8ERX+4fu8EdzIPQCKiooYhjlz5gyV8RBwJnAjDXS4pxbM60Z4FpscmnjeiKRBJQ03MoJx3LhxI0aMMLJliGwDNwq4I3DdiEQHNyJpyNJwI7gRnjeSTIpIet4IbiTpWpUFuJEKGJqr3c8b4bqRmymuGxkZW7inVnvvqeG6ETlDcN2IpEElDTcyghFuZIRSDbeBG5EA4UYkDbU03AhupDY2LFqP+EYkaFw3ImnQTeN5Iyo8cU8tYIy4p0aii8R7aq7iwv0nyshWBpgO8J4atfK5yZMnB+BGtMoP8ntquG5EDltcNyJpUEnjupERjLhuZIRSDbcxdt2o8vy+jWs3HbrsqGFpqrsH6Ea0TjhivYxdNzKdRoS5UenRH6aPzWgY3+v9IqdIOvD//XcjuuX770ZUy4cb8UMH143ICVTbrhuZfgAm4Bq7bkT7RERUQDFpyI2sxKRYS2JlZF43cp7+7ok+Q95evXX5lIcGTsu/SjSYXtJ/N6J6whEbou9GltCIMDdyVFaWb53QLi5YbkS3fP/diGr5cCN+ssKNxEMW/39tciNLDsAEXF03MuVERFRAManrRlZjUqwlsTIS3ch17osHm/f8xzH+B3/F1gk3pT27lcaNEYKakPTfjaiecMTq6LmRRTQizI04jnMcer1TQrDciG75/rsR1fLDw43M/h1t1I1MrofRe2omV6P2uJFFB2DxfMBxnK4bmXIiIiqgmNRxI+sxKdaSWBmBbuQ8Pr1nQurz26qEZpYtH96wyfDlJUSbKSX9dyOqJxyxFTpuZBWNCHSjw29kBNWN6JUfmBtRKz/k3ciS39EG3MiKehhwIyuqUWvcyKoDsHg+MOJGppyIiAooJrXdKAiYFGtJrIxANypZMjjRdvfM0y6hmVU7J6XZU18scJsS0fIaJwNzI2onHLH+Om5kFQ24kdghCv/7/7wRf/SiOFQCeRabXvkh70aW/I424EZW1MOAG1lRjVrjRsoHYIWDBL1VuteNKB9djNVc242UMdE/axurq7BV5LmR88T0nqx94MJSNwXHwdx0tuGo7yv8gGJs07BwI8towI00Rg3cKORjP1K8g6oyEAy4kRW/5w24kRXVqC1upHIAVhkjdFaHoRupYKJ/1vaDcIS6UfzgL8vdFBx7p9zKNhq9ij7l8HEjK2iEsxu5LszuEx/j/sT3mX3BfcWR3nUTTtuNlIu37rqR6eWH/HUjS35HG3QjilcLFc8DBt3I7GrUKjfyPQArdg2tleHqRr6Y6J+1/WAceW7ElX41OMmeNfeS+wxXueWZNrZbXt1N/1V+bTcy/YQjdrLOPTWraISzG3HOq+eOH3N/jp+76nlp3zI3Ui7eOjcyvXy4ET9Z4UbiIYv/v7a4kcrpiERBPR2GbqSCif5Z2w/YEehGzqIP7kq86SXPE0bFCwcmNn9srQkvqmm7keknHLGTddzIKhph7UYiS8n/jkO56Qk9p58ISnwj4bYGtfIDexabWvvhRvzAghuR06vWuJFVB2ACbji6URAwEcQUkxHoRpzr0tKhLbu9Vcif1ErXPNo2I3evGc906biRIm6O4gnXU4COG1lFI8LcqOLElvnP9UqObZw5aUHeqZrqkfY9NaWRQrd8/92IavlwI76L4UbkQK81bmTVAZiAa8iNqP3yIQrWTGo/ix0ETJq15TguEt2I41znVo2/7+HcL5fNzBk4+pPDnkeP9Fj4+b3/bkT1hCPWVs+NLKIRYW4k0qXzv/9uRKfc6lwCeU+teucaJ+BGPEK4ETmQao8bWXQAJuDqupEpJyKiAopJHTeyHpNiLYmVkelGfAOr/vht9+6jlyqJxtJN+u9GdMv35KbvRvyGptOAG2n0LtwoDN5To3cHU3kkGHQjs3/PG3wW2+xq1CY3suQATAw6XTcitrUuqetGVmPSa3rkupFey2v8fVi5UY1bq5cB3EiDENwotN3Ikt/RBtzIinoYcCMrqlHb3Ejj6ED9qzB2I+osapAh3ChgeHAjEh3ciKQhS8ONQtuNZN1lzqIBNzKnYGmuBtxIuoM5S3Ajc7jyucKNqLCFGwWMEW5EooMbkTRkabgR3Mjg80aykUN/EW5EnWnv3r2nTp1KPduAM4QbBYyO3BFuRNLwKw03InHBjUgasjTcCG4EN5JMClw3kuCgugA3ooITbhQwRrgRiQ5uRNKQpeFGcCO4kWRSwI0kOKguwI2o4IQbBYwRbkSigxuRNGRpuBHcCG4kmRRwIwkOqgtwIyo44UYBY4QbkejgRiQNWRpuBDeCG0kmBdxIgoPqAtyICk64UcAY4UYkOrgRSUOWhhvBjeBGkkkBN5LgoLoAN6KCE24UMEa4EYkObkTSkKXhRnAjuJFkUs0SVPwAACAASURBVMCNJDioLsCNqOCEGwWMEW5EooMbkTRkabgR3AhuJJkUcCMJDqoLcCMqOOFGAWOEG5Ho4EYkDVkabgQ3ghtJJgXcSIKD6gLciApOuFHAGOFGJDq4EUlDloYbwY3gRpJJATeS4KC6ADeighNuFDBGuBGJDm5E0pCl4UZwI7iRZFLAjSQ4qC7AjajghBsFjBFuRKKDG5E0ZGm4EdwIbiSZFHAjCQ6qC3AjKjjhRgFjhBuR6OBGJA1ZGm4EN4IbSSYF3EiCg+oC3IgKTrhRwBjhRiS6EHej1q1bMwyTFaRPu3btGIZJS0sLUvlZjPAJVundunVjGGbHjh3kgKGVZnQzWrNmTVJSku5mZm+wfv36+Ph4s0vRzR9/a1YXkb8b4G/NGiE2bty4ESNGGNkyRLaBGwXcEXAjEl2Iu9GSJUuysrImB+/TokWLV199NVjlDx06tFevXsEqffLkyR07diwtLSUHDK003Mg/knAj/3gZ2BpuZAASBzcyQqmG2xw4cIBhmH79+o0J6qd79+7uSxFBrcWYXr16MQyTmZkZ3Grcc889DMMUFRXVsHOxOwj4RQBu5BcuDm7kHy8DW8ONDECCGxmBVNNtKioqGIYZM2bMo0H9jBo1KhSqMXr06P8vJaNHjw4qjEfHjBnDMMz//u//1rR3sT8I+EMAbuQPLQ5u5B8uI1vDjYxQwnUjI5SwDQiAAAhQIQA38g8jrhv5x8vA1nAjA5Bw3cgIJGwDAiAAAnQIwI384wg38o+Xga3hRgYgwY2MQMI2IAACIECHANzIP45wI/94Gdi6U6dOmZmZ20PmwzBMdnZ2yFTHU5G0tLTWrVuHWq006jNnzhyGYYqLiw0MAWwCAiAAAqFFAG7kX3/AjfzjZWBrd4QM/BuRBCoqKgwMAWwCAiAAAqFFwJAbuV+hLArq5+OPPw6FasydOzcUqvHZZ58xjH7fhdZYU6/N/8UnEgm4XC71Psc3IAACIBC6BPTPrwsXLozIX7QR0KjQHVaoGQiAAAiAAAiELQF9N+I47r///e+ZEPj8/vvvIVCLMyFSDTzJEbaTDhUHARAAARAIaQKG3CikW4DKgQAIgAAIgAAIgAA9AnAjeiyREwiAAAiAAAiAQPgTgBuFfx+iBSAAAiAAAiAAAvQIwI3osUROIAACIAACIAAC4U8AbhT+fYgWgAAIgAAIgAAI0CMAN6LHEjmBAAiAAAiAAAiEPwG4Ufj3IVoAAiAAAiAAAiBAjwDciB5L5AQCIAACIAACIBD+BOBG4d+HaAEIgAAIgAAIgAA9AnAjeiyREwiAAAiAAAiAQPgTgBuFfx+iBSAAAiAAAiAAAvQIwI3osUROIAACIAACIAAC4U8AbhT+fYgWgAAIgAAIgAAI0COg7EYup8PhdMlKUVwp24bKosGCHIe/mZY7f0cJlTLJTEp3LsjN/eoAuUqadlVcOX1k1y8/5+89eaVK+pXWUoC7aWVp/Xe+ncOvcTjJmvhuQ37rSRvaiOPQywrsaK/ShGywo2jXCfmBAAiAQPAIKLrRH/Pus7N3/ut38oTnPPFeD9Y+aNE1s+vqujD7XhvbYfIeh05J5cseSbJlzjordzhhN8fhxa88+8GmPxS/1M7Ydf7j3jb7g0sUt3Ke+epvHZvERUdFswmJ9pgoW7OeE1ecIkHR3E0xr6CurNr2fCrbaOSK6mHgOjXjblt08pCl1Y7qOvtx77g6D3x+Waui6GUtOuZ+5zs3NKZSdUeZWyfkDgIgAAKhRCD03IgrP7xqzuyvd1zW0xqNAzrHVawa3dDW470Tutbi2xnabnTss6ez31628/fiKo6rPJ/3dp/GsQ0e/lLPwZyB7eZbuaCvKV/7aDP2hmfzxOtlxV8OrhcdHdvqyU2VnrqVLhta39bjvePa6NHLQetK37mhNZXEjgpadVEwCIAACFhOIDA3cv35286CIxeqnH8eXrfooxkffvFj4VWPyjgvFxYUHD4vnigrzx/ecfBsuaddlecPF+w89qdoPa7i3zZ9PXfmBx8tWL3voniy5Vx/HttJ5MBxjkv7Vy+Y9cHMT1fsOnvu6I6Co25tEg/oVT6VcJUU7fjnA8nsbeO/y9+2bdv2XcevuItULlConKeQWZ9/v2v/DPXrRvIOKvtqcALbYcpeB8eVnz1Y4C2K39BVfGL39h2Fl3yvgBG7yXMM9eUrix+qy3Z+q9CtPpUbH2/VPKtfRkJ67kF3Myt/fqatLW3STm9/opdV+tRZXPjTV3NnzJj9xbcb9py5JoxRcWo5Lu1f9fmsWZ98u+OcMJeuFeUt+2TmjLnLCs6Kc8uda+X5PasWfDRj5rxleUXVV/PUv1KcG+pTiZNMR7FyCvPe00SVuaoCAKtBAARAIDQJBOZG/LGUTb1/aLcWTW/M6NapTb3YuPZPrxOcp2r7C6ls9VWE0pUjm8TUH/J1sdD6ys1PtbKn5x7iT6KuS5v+fldTe1LL27p1T29Tj03u8somtzSVLx+ebBPv6DnPrHw6PZlNTLmta9eO1zdMtLFR9geXCK6lXomqX55LtcdERUWzNv4T1/yxNRUaBXKuSxsmdWvA1mlxa7ceGalNk9yFGOgw1+XVj7W13/DMJv6k5Dy1+C8t2IZ9ZhW6tcBxfF7/Jgk3T9hY7YJijpLdxJXh8r/r1My77Qn3zbvIn8od+6Z2rP/g/PUv3JR47+xzwpoj0zJszbPXVQjtQS97Bodv75Zsf+uepmydFrd07dbpxkb2aNstr+7kOE4Y1Tf1G9q1RfP2nbt2aJ4Q26TvG59M7du6fotbunRJaxoX23TAp+LlUOepb3Nurcsmt0nv1jm1sT2+7eA5h9zgObWvFOeG+lTiOHE68i1Q2c7TOI256tt8rAEBEACBECYQuBvFNL375RXHyvi2VR56o7Mtoc8c4eRYvvaxZraMNw7zAnRt9Zhm8fHxDR9ZysuR8+jbXeLajt9ayXGuy9+NaF7ntvHrzgsXG5znVoxpa097WbjYIB6MnRznOr9ocCN7avaKM55rEkff6cGSbqRUCYG2/L6BWoH8xldWjm7Bth7+ZZH7B3nVsX/05AvR6jXHr0teHjeyf0bqzX2f+/qoeFnM9eeG8WlxiV1yd5ZxFfveviO5Yeb7Bz3nKiE35d20CgrB7xwHcm9nG47gHzlynfkwM6nX+yevrR7brOGwb0s5znXxk74J9QYvucJXXA067461vJdd52b3SUjsPfOke2A7/zz43Scrj3r0I6bpPZPXnBQGTvHqR1NiYls98M6mc/yWrotLBjdiO07dL+A9t2BQg7gO43+8KFzDK9n15p3JCV3e4n96uNS/UrrfzDuP2lQSO4ovUWU7YZBqzlVhC/wDAiAAAuFCIHA3Ih+Drtz8VGtb6gvbhQsmVxY/VC/h/k8vubiytY+lpD6ROzal8dBvrnLclUUP1m08ciV/Tr30Wb/EhsJKD6iqvGdviOv6zlEnedZ0nZ+bFR/X+6Pqx63FR4GqrxspVULIUeZGqgVyHPfnogfr2npOF3+Lc2IhWl3oOPj5M8Mf7ndHaou2dz6+4JBgiML25XvfviPZftNjb+R0SGozcll1zd2Zqe6mVVbIfVf58/i2bLuJv1RxJUuHNLyZv332x4IBda/nrbds5chGcXfPPMVfQlKFjl7mnMf/0Z21d5r0y2W3HFV3Mq8fxKh2nfso0xY3cFGpZwPn0Xe62hqMXMnjPT+nT1x81twLwr04/vtrq8Y0ZW/9+16HxlecmhsRhXLifOYzlbuRwnb8Ztpz1VN7/AcCIAAC4UFA0Y3+/Ox+3/fUjr/Xg417cImgAbIDOFe16+U0W7uJ7gd0Xadn3RPfdOya8vL12a1Sn80rXped0njYsqsVm55sVbf/fP5hoaqCF1NjY+Pr1fd+6iXExt74XH6V92Ds5Kp2TGrPpjy+sfoBC1FbFN1IrIQAXuZGqgVyXNXuV25mm2ev9ynESAdW/Tazdz377bn7vGc4Z9H8B5vFRNk7TsqvfnVLnpXCbvJNQnn52oqRjWyd3/y1bNNTbZo/uracE071CRnTjpTnP3ejveNr+wUcqtDRyxznPL109A3xUVH2hjd27Tv0qWmLd10Srv7Ip9aVz/vZ7QO+EIeS69QHd9mSh33HcZz77vVT1c/Auy/MsvWGfVuu8ZUhNyKnkpYbebbjx6r2XA3l0Yy6gQAIgIAPAUU3Kv9mSBKbMe2I94TPce47KaO+F670yw/g4rHU86DNwdz0uJtfyVv3eJvUiXmVXNm67JQmf126680udTyXZ6p2vNSebfHwBz/8SH425B0tdpFu5Ng/9Ta28ZjV1belAncjtQI5wevY5tk/BuRGnJNXRlvW3EvVP95Lt0/JSGRj2UZZH/7q5uEDnXcJ+W4KG4XsKtflzx9ITOj78U+vpScPWPAHX0/eg5L6ztn2Tnd7K/F0jV7W6eWy09uXfZg7YcyAzikJ0fb2z23x3LYiL80Uy91oRrUb7ZzUnm2Rs6F64HKOw290YuuPWFlRpf6VWW6kPVdDdijXrGJCZK/qme/Oy+V0VPkGh6tZORp7O3799q3cz7a7H+jU2C5YXzmOrfxH7pyfvcfHYFXEonL57vd8FGIEWlQJshhZeDLHxT3fffzuG6+/NWP5wVLZd+RuGmnd+H8K+2pGUFPYPhRWKbqRcIxNHvSF8Litu5au85/2S7J1/8cxxR+3UjfiKrdOuD6+x5DBbVIn/sIfuQU56j8ks94tr+526wJ/3y3+jn8qvuct/lB1clzpypGN2dTn8sUHehy/vdtd8rwReRYRKyFUuGLNo01sXcS3qThOvUDXpU/vj7ffPfO0eIwTBcxQ91RsndAuNvmRbzz3PFznV4y9PiH1ieXr/p6RWKfTq2qXjmS7GSoqhDZynpje017/3v49k8QRwZWvHtus0QNDeic2GLpMvMihDp004NrZyw4H+cvjyjdDG7FpL/vlRvyYrmvr+jZ/h1L4uC4vHFTP3v3d35xaX3GcfG64nyNSm0ridOSLUPlNJJSuOVfdFYywf6t2v3oLW3/Eiuqfbpzr4g9Pd6iTlP7chktWtVXsHnEQkOX6BrIiv7UmXbH2sabi46fWlBjUUsqXPGhnPJ+oxL8s1a2MyX1UHZ5MONq4znw5rCVbp2VGZp+7ugybvesjdyRB3UpKNvDr/CjuKT9yiOtD+X9FN+KcJ+fc14BtOfCfW07z99DKz/w8fUALtv59c4vcU1DeUlFLxOskZd+PahwbzV4/gX/u2i1HLWKjY1NyNojHkdJN41PtyV3Hf7nvEv9odtnZPSvff3Lqij/50oj31Cp25XZOtLfMfCL33WmTxg1MT6kbJ3lPTe2AzjkO5aazyfd+UFjOcZVXrlzjVArkn5Q4O39AfVvqY98cL+NcZb9vnjXmtnrRKs9iO0/OH/+3t77OP3nVwXGVlw8sfSajLtsme637Z1tV4Ud9GydmTNl+jeOqjnyQWd/WduyK8y6O094tlMeHSt0c/GkhKppNfX6bp89dl+f3T4yNjY3PmsO32P1RgY5e5qoKXntg0KuLtp3i39yvPL/55S51kgcuUNAP9etGHHd1fU5btmnfd/MuVHLOKwc+G3a9rdHA+af5Oarxle/cUHOePL4XxekopKUPQ4n30t2drTVX3VtE2L9yN7qa/1qP5PibslecVRIVkxovdo9SkbIHC0yqgXa2tcyNXMWnDu/9fNh1bPO/zt975PRVbTiKF3F1d/FrAzE8GX9M5h9WtF83crnwogw/tT2RBP3K0NDzuD45yo3BZ4MQXKHsRhznuvDT6w+0S4yOio1LiIuNikm6ceCbm6uvI8lbKncj1+UFAxJjrx//s3i9v2xddovY5CFLibFS8dvXE+5KiY+OZuPibTFRsXXb9Hp1A3/FQTrbXZe2zZk4pM+dvTIHZb+9Kv+fmfa6Q5fpP2/EOU9/zT/PEWOLt7ONRq+q4DjFAoUucRQtzb61Hl8TO5t00+BJYzqpvafmOv/dkxnNE/iw2HF2NiqKbZLx6KcH3GFlSvJeSU+sf8/7hzyNdv6+cPB1sY3v+/holdZuITgoDFSpcuPjKTHRjUd9X/0YuvPYP7qzDNv5zV/Jw7QidPQy5zy5+NGOjWxRUTG2hHg2xta0+zPfCu+syaeWlhtxXMmeD4e2rxfDj/LY6PhWWbk/Vc9Rja985oa8UHE+8wNBnI5CWsuN+Ifv1eaqgREVfptI3Kj8wMy+Te1thi46Lv5AFBqkElFNDBTFcY7i3w/u3nf8jypxlWrsKOWsxO4hJ527ZLUgb5xGRCyiE8T6GAq05Sg+uXP9soWfzPrXvz6avzzvZGn1zyO5Gzn/+G3ndj42nrso5UYR1QjDZOWmJ1uyrZ7aLJ78RJK+PasYbIxvsTIW9YzclJTjpYnRAq+d2v3R4Ka2Dk9/m7dt2/bdJ4pdPpEElYsVMjce/0+pFtW/vnyDEfKRYFRHj9hiYp5w4rrKi/tWz/9w5pyvf/m9+iQkVFW5FeJuZFZubGr/qrmRu5Cy87/uyv8lf3fhhfLqwa6WU0DrXdfOHt6Zv233r6eviCNJKx/+GVP7Lfp/TsSTR+Xlozt/ydt5+ExJ9f0L1QKdV3/fu23b3qJin4OMb4Wqrp47tr8gf/u+k39KDoS+W0rWBLibJI+wXFCFrtyaWtPLjqunDu3I+2XbvhN+jSMZNZ7ujvxt+4qKq0e5uIXGVwpzQ9yLzv9+9iKdQi3NxetGjhOLhraOa/7Ax4fF6+J8RdSDe7lPFT2em/VsZsv4KIZhO71+6P8ox4xzt0g9K1U3UgxkpRr2yhcc78usbqAt935VBS/dFMvWTenQtUe326+vz9pSBs4+4j40StzIefb7nJvrNOz1ej7/YKl6o3xrE05r5G4kkPSNBsg/pelfID6VjNynZrV4aeJdGMeev98ezwf9i+Wj/sW1fmJDpTh2BLgaveFH/D+lWvADQavqGqOH380mnScOIasb7r4vrVHT1Iyut7aoE5OU/uJPniCC6q1Qykp7VGm6kfaulnxbuWvhO3OX/Zi39/Dh3RvmPZGRnNT9HSF2pCWloxBrCKCXreFsbim1rRc9brS8aPXjaQmN7nl3lxhoQcCsFdxLOFVERdlaZI7/8NuNP/+0cs3uP64px5ji89LKSjy/Kf2k87mnphn2SjY4+HOJfqAt906uC7t+zD/l+fXu+uOH7HZss7/9IHii141cF9dNvD1JFCPNRsmqEmaLSm6kED3M3Sp5H2n2tfIQ4cMKqsdLE92Ij0P447gWto6vHRB/Q4ljR2OI8ZU0Hv9PuRZ8ce7R5BsRkc9fY/Twu8nmiUvI6rp7c9f/LlxOKT/03t31bB2n8q+Kq8HjS1HKyt0Fav+GuhuVr5t423VJbFQUExWb1CLj4dwfTos9q9YkrA87AujlsOsyhQrXtl4U3KjOrT1urxsdldTzrb2SK/uawb2EA3X1my1ulPyxm3x80hNjSrj+ZCganG+P+Jx3VSNi+e7rrqL3T3mrBNoid6y6evrQ9p9Wf7tk7rj06nd3PW506OKmSZ2Tq8VIJ/gZmWv4pZXcSLlnfZ830hw2KkOEDyuoHi/NkBupFutf/D/VWshHkySCmruHfUYPv1pocfX7Pu4N5RS44sUPuV8T02qFYlbaYyvU3chTe0dFeaXSLyPtxuHb8CKAXg6v/lKuba3pRd6NYqPYVg+/969RN9jYNsO/PuU9RmkG9/I5VYinAa+LEM+5a2Yl/vb3luztFbkbqYe98u5TnZKfgpQDbbk3d134adpDtzRgo2Lsyc1ap6a1To623TtbCErKuxGbOmhEt+TY5iOXe/8mt2ajqisRlgk9N/I8zedum6yPNLHIu0R8LJC/aaUaL82QG6kW62f8P7Va+Ax4seo8BJXRw38lb7HiOv61eOG9L41WKGfl7gK1f8PEjdSqj/UgAAIgEBQCwnWjeg9/XcJxFYdm9W0Sk5jx8s/8gzT8RzO4l9IxX34a8J5BNbPyy41Uw14p8JPXR/mlAH5H18VFDzWIbdYnd3XhFeGifvlXgxNIN4qOSmh/X9/2CYkdJ/4oBjrSbJRCdcJoVY3cSC0QnxD5T3ZpURQM8aFXxXhpxtxIrdgA4v/51IJ/VUk+msSqa4wevsfluymuq9yQ04Ll/+CY6phS3E13RMGNdBFhAxAAARDwIeB53sgd38h1ZctLnRJjm/b7+Ij7rRKt4F5Kx3z5acDrRhrB2byvESpeN5IFeVMPe+XTNt/TkrobVf78TFu2zTNbqt+mkbsRy8e1c5xcPLS1LfmO17e7X1bW5KNQn/BZ5Z8byfpIC4vKEBH+HIVqvDRDbqQxxPyK/6dYC/FPaJP3Fb1upDp6+A6Xt1hpnYP/6+buqHr+wNMfTyHvRpoBNQOL66lNJdiBXBHoVqd/ahoIWHPQaA43jYo5ik8d2pm3ddve385erTTnnU6N0jnNNmntqP6dFolQH6PqraL5jcSN+Nsap74e0Za1p2Z/L0T40gjupXTMl58GCDdSC84mjxMmb5xPkDfNsFeyveX1UXcj58kP7oqPz3hF+NuAZae3zs3p0lByT02M/Vh+YEZWE7bZ/bMO8kFYtPjI6hI+i64rJ/fvnDf0Orb5sE93HigS4t7JSZI96xtsTAOLSka8G6nHSzPmRmq9wV8WNB7/T7kWFxQkx+tGqqOH73R5i8V17M1Pfn+8xMlxFac3vnZ3o7i0F34RnvZTgSfuRtqZ/pgKMTfyjRKqRMfTLGnMT/22GtvC+2KFse1pb6V1kZx2WYHkF+Z8pIPGZ7xpDDcVWNeOfP3iA+3rs1GxcYlJCWx0VHR88/RBz84r4P9woDUfaZsolalFItTHKCUEOtnI3Yg/lu9/v3ejmOSeb+zg91UN7qV0zJfzlpxB1bPS7AqfQFaaEbGkzZXXR92NOK6k4J17m7NRsfYEO5t4Q/9J2T3t5D010Y34uD2//L1rPVuboYtPOLT4SKsSRktKcbHlJKU969tHqsNGJSPejdTjpRl0I5XeENAbjv+nWgufAe91I9XRwxctb7G4LqZ+y1bJNntCPBsdk9xh9OeHxb+coTxRxN3C2o1kT6ap0BE6jP/OE9eT6kkozM/9IhvT/g93PpJB4zPelCajBsrSgml31Gcb95z4xfazwg+Xqiu//bzglf7tklo9SfwRWI0cqHwlaROVHJUPS2LWmidkcSP8LxDwM7iXFrWAslIIZKUR9kqreO3vys4d3P7L9gOnS5Xu7mnsGlCjNPILx69U+siPyH9CqynES1PtDePx/wKqhR+jx3OIPlN69mBB3vYDZ/i/LCD7qLZCtp32otp1I8XglmJoSUOhUvl4Cuf3rFrw0YyZ85blFbljR3sro/CdYpRQ8WSlFFBTEtdTrJxv9FFPoZ7InjM/XbHr7LmjOwqOXvbWhkjJz/2yQK46IUuJqJu6FVKO3xnq5x0dPsqNEln4g0eFtDof5+XCgoLD58XHHirPH95x8Kz4g6Ly/OGCncf+dHHeQaM03rSGGzFI3Mmq3VNus8Xd9lKeJLAN/13JwbWbjgvPparHfHVc+rWg4Kj36pLr6sk9BQfOiBVWnIH8nZviwp++mjtjxuwvvt2wx3Ng8LZJM8psdUhZ1TlCNFE8BJWf373ys1nS8LOSPlBph5CVQr8TRSAJAiAAAv4REA/RvkrkXz66Wyu6kWZwS91Qqe7fDc5T3+bcWpdNbpPerXNqY3t828FzDolBY1W+U4wSypNgFYOKyp5DVNnQTdB5ZuXT6clsYsptXbt2vL5hoo3l/yybIh3JuV8ayFUjkqvQYdIAnrQD3SrW1vqVGnz8Ckqqgscz4jWyIi4SS1vvfkVZvF5TunJkk5j6Q752/6m7ys1PtbKn5x5yVP8NDKdiVFrNUSQtjqvc/HTr2ORBC8VXb2RfC4saMV//mHef3T5oUfWPBv7PsNjScw/ySqU2A1XWk66iUaJwiVphMikeZQQS7TL739q02U2du3ZMSYyt2+mlTe7ws2R5nEo7hOYrTAuEJ1MaJ1gHAiBgiIBwTCGCXRjaKZCNFNxIL7jlPZPXnBQsp3j1oykxsa0eeGfTOf6A57q4ZHAjtuPU/XyAynMLBjWI6zD+x4uCKZXsevPO5IQubwkRrdW+46vvc49DOJyrBRWVHKJ5ZAobnuNrdn7R4Eb21OwVZ9wH5sqj7/RQ+4tpnPfcLwvkqhp1U4yJLgvgaUKg20B6mPY+qnzUgpL6h4fvL23Sqm7Ela99rJn4bMO11WOaxcfHN3xkKS9HzqNvd4lrO57/08eSQeMz3jRGkRyks+j9O1hWFphMvpFGzFcVpzjoUAlyq75e0iaNEtUmk8BcXnOBRPM+r/94SrgQV3HkX5nJnvCzkvJ03Ug2LRRFTF44lkEABEBAkYCjvKSkTIxboLgFnZUKbmQ4uKVKqNSVFZxLIwCr6nd8g3zOVT5PY3nDxcpOc3Kd9Gy4nVejuVnxcb0/Oisell3nP+5t07lu5BPIlVONunlUfCxKep5UqRB/6r8UYKBbOn1es1w8buTDR7tRfGQOQ3i214QP/w5nwv2fXnJxZWsfS0l9IndsSuOh31zluCuLHqzbeORKIdIG6VY+402l0/hayT+OA691ZG19PxHvirnOrpwy6q+ez4jx8w97r5D4xHzlR6K6G6nNQLX1UlcR6qlYotpkUmqdz7be8LOyiafSDqEaAk5pv8sxYhkEQAAEQo+Aghuphtj0OVwqh0r9rpzTCsCq+h0Px+dc5VMm+ZC/5BKA/KzmfRK+asek9mzK4xvFB1E4XTdSCuTKqUbdzBfdSHqhT6VCfFy4ghdTY2Pj69X3fuolxMbe+Fx+ley8E3oDRriupsRHu1GyqGUKxLz9FTgf1+lZ98Q3HbumvHx9dqvUZ/OK12WnNB627GrFpidb1e0/X7AYyaDxGW8qnZan0BHOk/+8g2W7vFXoefjUdeHH6ROf0jFr1wAAClRJREFUeeaZZ576S3pybEv3vT2VmK/abqQ6A9XCzpJt0ihRbTIptc5nW646/KxsjOq6kXRaKJDEKhAAARAIMQJKbsRX0VBwS+XXOnk30gjAqvodX6zPucrnEB2AGzn2T72NbTxmtfi4k74bKQVy1Yh0q3CmV1jlrblq/E4h+Cl5XSPERovQRWsfa6rER7tR/rmRWpRWXT6Og7npcTe/krfu8TapE/MqubJ12SlN/rp015td6vScfkKQGNIjfMebH27EVf70RMvYpPvn8X/rkfwIEiG4kWbEYMEpBi6sfo6bfN5IbQaqrPe2SbNEtclk0I2E8LOTdsr9XaUdAhE5ThJTJKVNiC9lLh6t6FXmlozcLSYQdmPTYj6qxSm5kXJwS/6QKDvDqbqRZgDWK4sfqmvr+vZRz89tznV54aB69u7v8nWskEUJ9S3Taxiyn6/yyhHXIUpXjmzMpj6XL74C5Pjt3e6azxspBnLViB3qW01NN9LOKQzcSJGPn0FJNfqrBnx4L4nvMWRwm9SJv/DXCQU56j8ksx4fmleYBV6PUBpvWrXymUQV219sz7KpT21wP6Esfu91I9WYr7xNlSwcGEcG3CDcSHkGcpzaem+bNEv0mcDEHBErX/2/nITz6NtdbfUf4e9QSu/hqbRDyEieSXXuEZUwJb6UuYRqR8eYyzAscq8em2FR25CqpIIbqQS3dPkKgLobaQZgvbo+py3btO+7eRcqOeeVA58Nu97WaOD80zwX30iu8kkciBtxFbtyOyfaW2Y+kfvutEnjBqan1I0z9J6aNJCrWuxQITytTBu13UgzpzBwI/GBZykflaCk/uFxX8PQykqbT9n3oxrHRgt/elCYaGXrslvERsem5GzwXDb0eoTSeFMZbopXVvhQdlsmdUqKSb597Kwfjwp/S6rq6ul9q1/r3ZAVrhupxnzl3cixd8qtbHLmewdKXVzF2W2fPd2zSSwrvKemMgNVgt9eIF1Fs0S/3YhNy1l+tJiP0nd287R7m9hvevZnIYqTlKFyOwT6cpwhdeyjVxkz4kvRq51STrWkY5SaXsvWiWOzljWbQnMV3Mh4cEsNN9IOwFqy58Oh7evFxNji7bHR8a2ycn+66Lkv4RMlVD6JA3Ij/vHnbXMmDulzZ6/MQdlvr8r/Z6a97tBlivy872HxX0sDuSpH3SxRECGFVWTNVaKQCjlpn/sV62zlSi0+hiO6quMRLUQ9K20+rssLBiTGXj/+Z/HpMkGOkocsdf8VJ9IjeGry8aYy3MRaKYAu2b/wuX5pDdioqNi4eFtMVBSbfONdI6Ys2iNcTNKIGMy5Lq6dmJ4cE83GxbF12g2Y/PLAZu53+NVmoNp6yXUcrRL9aR2/bWzTG1Mb2Gx8+NnoumnD5x0UzEjOULkdAip5gQr8ImGVJL6UGNPJSBQ49ehXAhbNkGzKkcR8cSoFxKq2ZKWwcZx6rcS2EXHKqoNmVV7ct3r+h9JAWEJtlCuqlJVv5bGmpgSsG5veRwuUe7ymLbF6fwU3EqoQUHBLn8prBWBV/04hSqhPzjVawT8Obr9l8p4AM6ETdZMvnF5OATbFjN0oNopiVhotpTHenCVnjuzelpe/68hZn8DAWjFfnVeL9uZv23PS/QfMyUqqzUC19eS+WiWS2xlIu8rOHS7I27bv96viPXDFndTbobh5hK2UXEfjfZA1FgVOKxaVZkg29fBfMrIqAbEEN1KLdKVRK8F1pWHcHEJ7b7j7vrRGTVMzut7aok5MUvqLP3luM6tXVCkrWeWxSIGAODaFrEwdm+5HVtR7nEJjLM1CzY0srYT5hVXuWvjO3GU/5u09fHj3hnlPZCQndX9HCLZkftEoAQRAILIJiOcf98P+QqA13ShwPBH1WFSaIdm0IolJQOuFqrv75RXHhEuBlYfe6GxL6DPHHV3swq4f8095LhG6/vghux3b7G8/CLek+XOrPF4Vvy7muntz1/8uXKotP/Te3fU8gbDUKspXUikrSeWxQIWAODaFzIS+aqo7NoVwhaqjQG1s8m6k1eNUmmNhJrXEjcrXTbztuiQ2KoqJik1qkfFw7g+nvdFnLMSNokAABCKOgHj+qXYj4hl7tShwXgg+sah0QrKpRxLz5ulOqQbEqr6nJt4H8UaDE/NQqJXniVNZvCr+fEu0l/MGwlKtKF+GsJssK7Fs/E+PgDg2hRxlfaU2Nqvf6OZ8RoFLPVxguUbkPnrtsS6nWuJGHqCOivJKzVsD1oFHSSAAAhFCQDz/KLkRpxIFjm+6SiwqjtMMyaYeScwHp1pALB83It9YVK2V79s4fIGy8y3nDYSlWlHF3XwqjxU0CIhjU8hL3lcqY1O4AnThp2kP3dKAjYqxJzdrnZrWOjnadu/sCy71sVmuEbmPRkuszqN2uZHVdFEeCIBA5BMQzz+KbqTyxgr/R5YWPdQgtlmf3NWF7sfNyr8anMCffzhOMySbeiQxRdKGQtV53UijVgoepOhGQiCsl3dWqVaUr6f8NK1Yd6ysMQFxbAoZyaGrjM1y9bHpUh+bvBupRaarcTOCkAHcKAjQUSQIgEAEERDPP/65kWosKo7jNEOyaUUSk1JVC4jlYyZeN9Kqlc9ufGny863jyLQMW4Ohy0o47Thl8ltx0ppjiRIBcWwK2cn7StWNVEeBS31s8lebjA9NSs0zMRu4kYlwkTUIgEAtICCef/xzI9VYVDwxzZBsGuG/JLTVAmX5Co3XjTRrJT+38qXx69ibn/z+eImT4ypOb3zt7kZxaS/8IjzLrVJRcTfJY0qSmmOBFgFxbAr5yftP1Y1URwH/gJrK2BTeU9PocVotsiofuJFVpFEOCIBAZBIQzz/+uRHHqcSickPSDMmmGv5LAlg1IJbPxR6vG2nWSn5u5Uvj18XUb9kq2WbnA2HFJHcY/flh4TzJf6tYUXE3uJGku0xZEMemkLm8/1TdSHUUuB/eVxybnj5X7XFTmmdipnAjE+EiaxAAARDQJGAsFpViSDZj4b+MBMTyqaGxWgm7ec63Z0rPHizI237gzDXx3TdvpsYq6t0eqdAgYGwUiGOTfPM7EnocbhQaoxC1AAEQAAEvgbAJySa/FuFtAlIRSiBsxmaN+MONaoQPO4MACICACQTCJiQb3MiE3g/tLMNmbNYII9yoRviwMwiAAAiYRyAMQrI5yktKyqrMQ4CcQ5RAGIzNmpCDG9WEHvYFARAAARAAARCINAJwo0jrUbQHBEAABEAABECgJgTgRjWhh31BAARAAARAAAQijQDcKNJ6FO0BARAAARAAARCoCQG4UU3oYV8QAAEQAAEQAIFIIwA3irQeRXtAAARAAARAAARqQgBuVBN62BcEQAAEQAAEQCDSCMCNIq1H0R4QAAEQAAEQAIGaEIAb1YQe9gUBEAABEAABEIg0AnCjSOtRtAcEQAAEQAAEQKAmBOBGNaGHfUEABEAABEAABCKNANwo0noU7QEBEAABEAABEKgJAbhRTehhXxAAARAAARAAgUgjADeKtB5Fe0AABEAABEAABGpC4P8BS6sxL2GFZsUAAAAASUVORK5CYII=)"
      ],
      "metadata": {
        "id": "yltG437JYlvK"
      }
    },
    {
      "cell_type": "code",
      "source": [
        "#define your kernel\n",
        "K = np.array(\"\")\n",
        "\n",
        "lur_img = convolve(gray_img, K)\n",
        "\n",
        "# draw images\n",
        "fig = plt.figure(figsize=(8,8))\n",
        "fig.add_subplot(1,2,1)\n",
        "plt.imshow(gray_img, cmap='gray')\n",
        "plt.title(\"original\")\n",
        "fig.add_subplot(1,2,2)\n",
        "plt.imshow(blur_img, cmap='gray')\n",
        "plt.title(\"Blur\")"
      ],
      "metadata": {
        "id": "7UGyUMTcYc8V"
      },
      "execution_count": null,
      "outputs": []
    }
  ]
}