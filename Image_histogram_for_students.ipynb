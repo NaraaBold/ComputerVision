{
  "nbformat": 4,
  "nbformat_minor": 0,
  "metadata": {
    "colab": {
      "provenance": [],
      "authorship_tag": "ABX9TyMW0xgKUCV+7Uxuk4OnMEr6",
      "include_colab_link": true
    },
    "kernelspec": {
      "name": "python3",
      "display_name": "Python 3"
    },
    "language_info": {
      "name": "python"
    }
  },
  "cells": [
    {
      "cell_type": "markdown",
      "metadata": {
        "id": "view-in-github",
        "colab_type": "text"
      },
      "source": [
        "<a href=\"https://colab.research.google.com/github/NaraaBold/ComputerVision/blob/main/Image_histogram_for_students.ipynb\" target=\"_parent\"><img src=\"https://colab.research.google.com/assets/colab-badge.svg\" alt=\"Open In Colab\"/></a>"
      ]
    },
    {
      "cell_type": "code",
      "source": [
        "from google.colab import drive\n",
        "drive.mount('/content/drive/')"
      ],
      "metadata": {
        "colab": {
          "base_uri": "https://localhost:8080/"
        },
        "id": "n--z71bBLASg",
        "outputId": "e89f972b-e487-4ce8-d4b5-3acc2d90ef8f"
      },
      "execution_count": null,
      "outputs": [
        {
          "output_type": "stream",
          "name": "stdout",
          "text": [
            "Mounted at /content/drive/\n"
          ]
        }
      ]
    },
    {
      "cell_type": "code",
      "source": [
        "# TODO: Enter the foldername in your Drive where you have saved the unzipped\n",
        "# assignment folder, e.g. 'compVision/assignments/assignment1/'\n",
        "FOLDERNAME = 'Colab Notebooks/Computer vision/tasks/'\n",
        "assert FOLDERNAME is not None, \"[!] Enter the foldername.\"\n",
        "\n",
        "# Now that we've mounted your Drive, this ensures that\n",
        "# the Python interpreter of the Colab VM can load\n",
        "# python files from within it.\n",
        "import sys\n",
        "import os\n",
        "sys.path.append('/content/drive/MyDrive/{}'.format(FOLDERNAME))\n",
        "os.chdir('/content/drive/MyDrive/{}'.format(FOLDERNAME))"
      ],
      "metadata": {
        "id": "lA-bFkM8LAiS"
      },
      "execution_count": null,
      "outputs": []
    },
    {
      "cell_type": "code",
      "execution_count": null,
      "metadata": {
        "id": "5hQWiQrvK6aR"
      },
      "outputs": [],
      "source": [
        "import numpy as np\n",
        "import matplotlib.pyplot as plt\n",
        "\n",
        "img = plt.imread('')\n",
        "\n",
        "# create figure to plot image to\n",
        "plt.figure(figsize=(4,4))\n",
        "plt.imshow(img)"
      ]
    },
    {
      "cell_type": "code",
      "source": [
        "def rgb2gray(rgb):\n",
        "\n",
        "    r, g, b = rgb[:,:,0], rgb[:,:,1], rgb[:,:,2]\n",
        "    gray = 0.2989 * r + 0.5870 * g + 0.1140 * b\n",
        "\n",
        "    return gray"
      ],
      "metadata": {
        "id": "TKYSihCtLo_C"
      },
      "execution_count": null,
      "outputs": []
    },
    {
      "cell_type": "code",
      "source": [
        "img_gray = rgb2gray(img)\n",
        "plt.imshow(img_gray, cmap='gray')"
      ],
      "metadata": {
        "id": "goDwf3cLLw7p"
      },
      "execution_count": null,
      "outputs": []
    },
    {
      "cell_type": "code",
      "source": [
        "#extract some parts\n",
        "\n",
        "head = img_gray[10:120, 80:200]\n",
        "body = img_gray[130:210, 200:300]\n",
        "# draw image\n",
        "fig = plt.figure(figsize=(8,8))\n",
        "\n",
        "fig.add_subplot(1,2,1)\n",
        "plt.imshow(head, cmap = 'gray')\n",
        "\n",
        "fig.add_subplot(1,2,2)\n",
        "plt.imshow(body, cmap = 'gray')"
      ],
      "metadata": {
        "id": "D2rjG_iQL-y3"
      },
      "execution_count": null,
      "outputs": []
    },
    {
      "cell_type": "code",
      "source": [
        "print (head.shape)"
      ],
      "metadata": {
        "colab": {
          "base_uri": "https://localhost:8080/"
        },
        "id": "5V9iPJchNPwl",
        "outputId": "d3cc9e4a-42e5-4882-c7e1-63fb49882fe1"
      },
      "execution_count": null,
      "outputs": [
        {
          "output_type": "stream",
          "name": "stdout",
          "text": [
            "(110, 120)\n"
          ]
        }
      ]
    },
    {
      "cell_type": "code",
      "source": [
        "fig = plt.figure(figsize=(16,8))\n",
        "\n",
        "fig.add_subplot(1,2,1)\n",
        "plt.hist(head.ravel(), bins=range(256), fc='k', ec='k')\n",
        "\n",
        "fig.add_subplot(1,2,2)\n",
        "plt.hist(body.ravel(), bins=range(256), fc='k', ec='k')\n"
      ],
      "metadata": {
        "id": "pE5KOjCrLt6f"
      },
      "execution_count": null,
      "outputs": []
    },
    {
      "cell_type": "markdown",
      "source": [
        "**Color image histogram**"
      ],
      "metadata": {
        "id": "a9UPVilUO480"
      }
    },
    {
      "cell_type": "code",
      "source": [
        "#Histogram of color image"
      ],
      "metadata": {
        "id": "RE2JhLyzXLWY"
      },
      "execution_count": null,
      "outputs": []
    }
  ]
}