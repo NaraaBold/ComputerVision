{
  "nbformat": 4,
  "nbformat_minor": 0,
  "metadata": {
    "colab": {
      "provenance": [],
      "authorship_tag": "ABX9TyMyjCW5YA6ezaRTJbw3tPsR",
      "include_colab_link": true
    },
    "kernelspec": {
      "name": "python3",
      "display_name": "Python 3"
    },
    "language_info": {
      "name": "python"
    }
  },
  "cells": [
    {
      "cell_type": "markdown",
      "metadata": {
        "id": "view-in-github",
        "colab_type": "text"
      },
      "source": [
        "<a href=\"https://colab.research.google.com/github/NaraaBold/ComputerVision/blob/main/Face_detection_with_OpenCV_for_students.ipynb\" target=\"_parent\"><img src=\"https://colab.research.google.com/assets/colab-badge.svg\" alt=\"Open In Colab\"/></a>"
      ]
    },
    {
      "cell_type": "code",
      "execution_count": null,
      "metadata": {
        "id": "AB4uWNi0RRw4"
      },
      "outputs": [],
      "source": [
        "from google.colab import drive\n",
        "drive.mount('/content/drive/')"
      ]
    },
    {
      "cell_type": "code",
      "source": [
        "# TODO: Enter the foldername in your Drive where you have saved the unzipped\n",
        "# assignment folder, e.g. 'compVision/assignments/assignment1/'\n",
        "FOLDERNAME = 'Colab Notebooks/Computer vision/tasks/'\n",
        "assert FOLDERNAME is not None, \"[!] Enter the foldername.\"\n",
        "\n",
        "# Now that we've mounted your Drive, this ensures that\n",
        "# the Python interpreter of the Colab VM can load\n",
        "# python files from within it.\n",
        "import sys\n",
        "import os\n",
        "sys.path.append('/content/drive/MyDrive/{}'.format(FOLDERNAME))\n",
        "os.chdir('/content/drive/MyDrive/{}'.format(FOLDERNAME))"
      ],
      "metadata": {
        "id": "_b0mutH8RZ3K"
      },
      "execution_count": null,
      "outputs": []
    },
    {
      "cell_type": "code",
      "source": [
        "import numpy as np\n",
        "import matplotlib.pyplot as plt\n",
        "\n",
        "img = plt.imread('kids.jpg')\n",
        "\n",
        "# create figure to plot image to\n",
        "plt.figure(figsize=(10,10))\n",
        "plt.imshow(img)"
      ],
      "metadata": {
        "id": "4QfUTUA-Rpk5",
        "collapsed": true
      },
      "execution_count": null,
      "outputs": []
    },
    {
      "cell_type": "markdown",
      "source": [
        "Face detection using OpenCV"
      ],
      "metadata": {
        "id": "QWVPJoqMSGCB"
      }
    },
    {
      "cell_type": "code",
      "source": [
        "import cv2\n",
        "\n",
        "#convert to grayscale\n",
        "gray_image = cv2.cvtColor(img, cv2.COLOR_BGR2GRAY)\n",
        "\n",
        "# create figure to plot image to\n",
        "plt.figure(figsize=(10,10))\n",
        "plt.imshow(gray_image, cmap='gray')\n",
        "\n",
        "print (gray_image.shape)"
      ],
      "metadata": {
        "id": "6m0iAIdvRr8n",
        "collapsed": true
      },
      "execution_count": null,
      "outputs": []
    },
    {
      "cell_type": "code",
      "source": [
        "#using haar cascade classifier\n",
        "face_classifier = cv2.CascadeClassifier(\n",
        "    cv2.data.haarcascades + \"haarcascade_frontalface_default.xml\"\n",
        ")\n",
        "\n",
        "face = face_classifier.detectMultiScale(\n",
        "    gray_image, scaleFactor=1.1, minNeighbors=10, minSize=(100, 100)\n",
        ")\n",
        "\n",
        "print (face)"
      ],
      "metadata": {
        "id": "pInSRiykSZib"
      },
      "execution_count": null,
      "outputs": []
    },
    {
      "cell_type": "code",
      "source": [
        "#draw bounding box\n",
        "for (x, y, w, h) in face:\n",
        "    output_image = cv2.rectangle(gray_image, (x, y), (x + w, y + h), (0, 255, 0), 4)\n",
        "\n",
        "# create figure to plot image to\n",
        "plt.figure(figsize=(10,10))\n",
        "plt.imshow(output_image, cmap='gray')"
      ],
      "metadata": {
        "id": "S8Wd9KnbSxh7"
      },
      "execution_count": null,
      "outputs": []
    },
    {
      "cell_type": "code",
      "source": [
        "#color images\n",
        "import matplotlib.patches as patches\n",
        "\n",
        "fig, ax = plt.subplots()\n",
        "\n",
        "# Display the image\n",
        "ax.imshow(img)\n",
        "\n",
        "\n",
        "for (x, y, w, h) in face:\n",
        "    output_image = cv2.rectangle(gray_image, (x, y), (x + w, y + h), (0, 255, 0), 4)\n",
        "    rect = patches.Rectangle((x, y), w, h, linewidth=1, edgecolor='r', facecolor=\"none\")\n",
        "    ax.add_patch(rect)\n",
        "\n",
        "plt.show()"
      ],
      "metadata": {
        "id": "REZzzX8jTg_C"
      },
      "execution_count": null,
      "outputs": []
    },
    {
      "cell_type": "markdown",
      "source": [
        "Try hand detection by yourself (You may use mediapipe)"
      ],
      "metadata": {
        "id": "UslBvujZU9K-"
      }
    }
  ]
}